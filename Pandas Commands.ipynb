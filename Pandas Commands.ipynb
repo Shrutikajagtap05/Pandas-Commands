{
 "cells": [
  {
   "cell_type": "markdown",
   "id": "70e5553d-a0b6-4bcf-9b49-b84e1121a478",
   "metadata": {},
   "source": [
    "# Pandas Commands"
   ]
  },
  {
   "cell_type": "code",
   "execution_count": 1,
   "id": "b04600c3-faa4-410a-b888-8f65a23d9777",
   "metadata": {},
   "outputs": [],
   "source": [
    "import pandas as pd"
   ]
  },
  {
   "cell_type": "code",
   "execution_count": 2,
   "id": "d4f6b136-a9d0-461a-8cb6-e173da7f4f28",
   "metadata": {},
   "outputs": [
    {
     "name": "stdout",
     "output_type": "stream",
     "text": [
      "0    10\n",
      "1    20\n",
      "2    30\n",
      "3    40\n",
      "4    50\n",
      "dtype: int64\n"
     ]
    }
   ],
   "source": [
    "# Creating a Series from a list\n",
    "data = [10, 20, 30, 40, 50]\n",
    "s = pd.Series(data)\n",
    "print(s)"
   ]
  },
  {
   "cell_type": "code",
   "execution_count": 6,
   "id": "37e0cbe0-79cd-4eb1-826b-0b3a18dfb130",
   "metadata": {},
   "outputs": [
    {
     "name": "stdout",
     "output_type": "stream",
     "text": [
      "First element: 10\n",
      "Second element: 20\n",
      "Sliced series: 1    20\n",
      "2    30\n",
      "3    40\n",
      "dtype: int64\n"
     ]
    }
   ],
   "source": [
    "# Indexing and Slicing a Series\n",
    "data = [10, 20, 30, 40, 50]\n",
    "s = pd.Series(data)\n",
    "\n",
    "# Accessing elements by index\n",
    "print(\"First element:\", s[0])\n",
    "print(\"Second element:\", s[1])\n",
    "\n",
    "# Slicing\n",
    "print(\"Sliced series:\", s[1:4])\n"
   ]
  },
  {
   "cell_type": "code",
   "execution_count": 7,
   "id": "301c52d1-9325-4a43-b70b-fff29e24aab6",
   "metadata": {},
   "outputs": [
    {
     "name": "stdout",
     "output_type": "stream",
     "text": [
      "A    10\n",
      "B    20\n",
      "C    30\n",
      "D    40\n",
      "E    50\n",
      "dtype: int64\n",
      "Element at label 'C': 30\n"
     ]
    }
   ],
   "source": [
    "# Labeling a Series\n",
    "data = [10, 20, 30, 40, 50]\n",
    "\n",
    "# Creating a Series with custom labels\n",
    "s = pd.Series(data, index=['A', 'B', 'C', 'D', 'E'])\n",
    "print(s)\n",
    "\n",
    "# Accessing elements by custom labels\n",
    "print(\"Element at label 'C':\", s['C'])\n"
   ]
  },
  {
   "cell_type": "code",
   "execution_count": 8,
   "id": "354ed532-b428-4b83-85fa-fe140bf06e5b",
   "metadata": {},
   "outputs": [
    {
     "name": "stdout",
     "output_type": "stream",
     "text": [
      "      Name  Age           City\n",
      "0    Alice   25       New York\n",
      "1      Bob   30  San Francisco\n",
      "2  Charlie   35    Los Angeles\n"
     ]
    }
   ],
   "source": [
    "# Creating a DataFrame from a dictionary\n",
    "data = { 'Name': ['Alice', 'Bob', 'Charlie'],\n",
    " 'Age': [25, 30, 35],\n",
    " 'City': ['New York', 'San Francisco', 'Los Angeles']\n",
    "}\n",
    "df = pd.DataFrame(data)\n",
    "print(df)"
   ]
  },
  {
   "cell_type": "code",
   "execution_count": 9,
   "id": "edfef759-04ff-4d36-b233-24e6a5ac46d7",
   "metadata": {},
   "outputs": [
    {
     "name": "stdout",
     "output_type": "stream",
     "text": [
      "Names:\n",
      " 0      Alice\n",
      "1        Bob\n",
      "2    Charlie\n",
      "Name: Name, dtype: object\n",
      "Sliced rows:\n",
      "       Name  Age           City\n",
      "1      Bob   30  San Francisco\n",
      "2  Charlie   35    Los Angeles\n"
     ]
    }
   ],
   "source": [
    "# Indexing and Slicing a DataFrame\n",
    "data = { 'Name': ['Alice', 'Bob', 'Charlie'],\n",
    " 'Age': [25, 30, 35],\n",
    " 'City': ['New York', 'San Francisco', 'Los Angeles']}\n",
    "df = pd.DataFrame(data)\n",
    "# Accessing columns by name\n",
    "print(\"Names:\\n\", df['Name'])\n",
    "# Slicing rows\n",
    "print(\"Sliced rows:\\n\", df[1:3])\n"
   ]
  },
  {
   "cell_type": "code",
   "execution_count": 10,
   "id": "cdee91dc-c864-432e-be3d-6c14f49e23d5",
   "metadata": {},
   "outputs": [
    {
     "name": "stdout",
     "output_type": "stream",
     "text": [
      "Modified DataFrame:\n",
      "       Name  Age           City Country\n",
      "0    Alice   26       New York     USA\n",
      "1      Bob   31  San Francisco     USA\n",
      "2  Charlie   36    Los Angeles     USA\n",
      "Young people:\n",
      "     Name  Age      City Country\n",
      "0  Alice   26  New York     USA\n"
     ]
    }
   ],
   "source": [
    "# : DataFrame Operations\n",
    "data = { 'Name': ['Alice', 'Bob', 'Charlie'],\n",
    " 'Age': [25, 30, 35],\n",
    " 'City': ['New York', 'San Francisco', 'Los Angeles']}\n",
    "df = pd.DataFrame(data)\n",
    "\n",
    "# Adding a new column\n",
    "df['Country'] = ['USA', 'USA', 'USA']\n",
    "\n",
    "# Applying a function to a column\n",
    "df['Age'] = df['Age'] + 1\n",
    "\n",
    "# Filtering rows\n",
    "young_people = df[df['Age'] < 30]\n",
    "print(\"Modified DataFrame:\\n\", df)\n",
    "print(\"Young people:\\n\", young_people)\n"
   ]
  },
  {
   "cell_type": "markdown",
   "id": "992bd15b-1137-4236-863d-64d7ca495c18",
   "metadata": {},
   "source": [
    "# CSV File "
   ]
  },
  {
   "cell_type": "code",
   "execution_count": 29,
   "id": "64738fdd-d603-476a-89d1-99c93016e928",
   "metadata": {},
   "outputs": [],
   "source": [
    "# Reading a CSV file into a DataFrame\n",
    "df = pd.read_csv(r'C:\\Users\\Jagtap\\Downloads\\New folder\\champion.csv')"
   ]
  },
  {
   "cell_type": "code",
   "execution_count": 30,
   "id": "bad11ea9-9c29-4f96-8c54-0532f765f8bd",
   "metadata": {},
   "outputs": [
    {
     "name": "stdout",
     "output_type": "stream",
     "text": [
      "   Year        Host  No Of Team   Champion  Runner Up Player Of The Series  \\\n",
      "0  1984         UAE           3      India  Sri Lanka      Surinder Khanna   \n",
      "1  1986   Sri Lanka           3  Sri Lanka   Pakistan     Arjuna Ranatunga   \n",
      "2  1988  Bangladesh           4      India  Sri Lanka         Navjot Sidhu   \n",
      "3  1990       India           3      India  Sri Lanka          Not Awarded   \n",
      "4  1995         UAE           4      India  Sri Lanka         Navjot Sidhu   \n",
      "\n",
      "  Highest Run Scorer Highest Wicket Taker  \n",
      "0    Surinder Khanna         Ravi Shastri  \n",
      "1   Arjuna Ranatunga          Abdul Qadir  \n",
      "2         Ijaz Ahmed          Arshad Ayub  \n",
      "3   Arjuna Ranatunga            Kapil Dev  \n",
      "4   Sachin Tendulkar          Anil Kumble  \n"
     ]
    }
   ],
   "source": [
    "# Printing the first few rows of the DataFrame\n",
    "print(df.head())"
   ]
  },
  {
   "cell_type": "code",
   "execution_count": 35,
   "id": "aa4469db-c167-4896-84c9-af822aa22c9b",
   "metadata": {},
   "outputs": [
    {
     "name": "stdout",
     "output_type": "stream",
     "text": [
      "    Year        Host  No Of Team   Champion   Runner Up Player Of The Series  \\\n",
      "10  2012  Bangladesh           4   Pakistan  Bangladesh      Shakib Al Hasan   \n",
      "11  2014  Bangladesh           5  Sri Lanka    Pakistan    Lahiru Thirimanne   \n",
      "12  2016  Bangladesh           5      India  Bangladesh        Sabbir Rahman   \n",
      "13  2018         UAE           6      India  Bangladesh       Shikhar Dhawan   \n",
      "14  2022         UAE           6  Sri Lanka    Pakistan    Wanindu Hasaranga   \n",
      "\n",
      "   Highest Run Scorer Highest Wicket Taker  \n",
      "10        Virat Kohli             Umar Gul  \n",
      "11  Lahiru Thirimanne       Lasith Malinga  \n",
      "12      Sabbir Rahman      Al Amin Hossain  \n",
      "13     Shikhar Dhawan          Rashid Khan  \n",
      "14    Mohammad Rizwan    Bhuvneshwar Kumar  \n"
     ]
    }
   ],
   "source": [
    "print(df.tail())"
   ]
  },
  {
   "cell_type": "code",
   "execution_count": 31,
   "id": "dfceb9f6-0656-4ce6-b889-0d5f2f268819",
   "metadata": {},
   "outputs": [
    {
     "name": "stdout",
     "output_type": "stream",
     "text": [
      "Index(['Year', 'Host', 'No Of Team', 'Champion', 'Runner Up',\n",
      "       'Player Of The Series', 'Highest Run Scorer', 'Highest Wicket Taker'],\n",
      "      dtype='object')\n"
     ]
    }
   ],
   "source": [
    "print(df.columns)"
   ]
  },
  {
   "cell_type": "code",
   "execution_count": 32,
   "id": "9c51944c-d849-4aa2-95ce-7dd260a8956b",
   "metadata": {},
   "outputs": [
    {
     "name": "stdout",
     "output_type": "stream",
     "text": [
      "(15, 8)\n"
     ]
    }
   ],
   "source": [
    "print(df.shape)"
   ]
  },
  {
   "cell_type": "code",
   "execution_count": 36,
   "id": "76509494-b0f3-4b2c-8ebf-88b2dc982809",
   "metadata": {},
   "outputs": [
    {
     "name": "stdout",
     "output_type": "stream",
     "text": [
      "    Year        Host  No Of Team   Champion   Runner Up Player Of The Series  \\\n",
      "12  2016  Bangladesh           5      India  Bangladesh        Sabbir Rahman   \n",
      "3   1990       India           3      India   Sri Lanka          Not Awarded   \n",
      "9   2010   Sri Lanka           4      India   Sri Lanka        Shahid Afridi   \n",
      "10  2012  Bangladesh           4   Pakistan  Bangladesh      Shakib Al Hasan   \n",
      "11  2014  Bangladesh           5  Sri Lanka    Pakistan    Lahiru Thirimanne   \n",
      "\n",
      "   Highest Run Scorer Highest Wicket Taker  \n",
      "12      Sabbir Rahman      Al Amin Hossain  \n",
      "3    Arjuna Ranatunga            Kapil Dev  \n",
      "9       Shahid Afridi       Lasith Malinga  \n",
      "10        Virat Kohli             Umar Gul  \n",
      "11  Lahiru Thirimanne       Lasith Malinga  \n"
     ]
    }
   ],
   "source": [
    "print(df.sample(n=5))"
   ]
  },
  {
   "cell_type": "code",
   "execution_count": 33,
   "id": "3a5bd834-a799-43af-91b7-35227f8988b7",
   "metadata": {},
   "outputs": [
    {
     "name": "stdout",
     "output_type": "stream",
     "text": [
      "Year                     int64\n",
      "Host                    object\n",
      "No Of Team               int64\n",
      "Champion                object\n",
      "Runner Up               object\n",
      "Player Of The Series    object\n",
      "Highest Run Scorer      object\n",
      "Highest Wicket Taker    object\n",
      "dtype: object\n"
     ]
    }
   ],
   "source": [
    "print(df.dtypes)"
   ]
  },
  {
   "cell_type": "code",
   "execution_count": 34,
   "id": "afe0d671-a66d-4202-a9d9-15f7c32bef11",
   "metadata": {},
   "outputs": [
    {
     "name": "stdout",
     "output_type": "stream",
     "text": [
      "              Year  No Of Team\n",
      "count    15.000000   15.000000\n",
      "mean   2002.933333    4.466667\n",
      "std      12.492665    1.125463\n",
      "min    1984.000000    3.000000\n",
      "25%    1992.500000    4.000000\n",
      "50%    2004.000000    4.000000\n",
      "75%    2013.000000    5.500000\n",
      "max    2022.000000    6.000000\n"
     ]
    }
   ],
   "source": [
    "print(df.describe())"
   ]
  },
  {
   "cell_type": "markdown",
   "id": "34433d3c-d04a-4297-a9c3-31a67a8134ae",
   "metadata": {},
   "source": [
    "# Excel File"
   ]
  },
  {
   "cell_type": "code",
   "execution_count": 16,
   "id": "080918ee-9a5a-43c6-a2c0-b9f3d91dca8a",
   "metadata": {},
   "outputs": [],
   "source": [
    "# Reading an Excel file into a DataFrame\n",
    "df = pd.read_excel(r'C:\\Users\\Jagtap\\Downloads\\champion.xlsx', sheet_name='champion')"
   ]
  },
  {
   "cell_type": "code",
   "execution_count": 17,
   "id": "d45e7424-979b-48e1-a75f-6d723ab5a7fb",
   "metadata": {},
   "outputs": [
    {
     "name": "stdout",
     "output_type": "stream",
     "text": [
      "   Year        Host  No Of Team   Champion  Runner Up Player Of The Series  \\\n",
      "0  1984         UAE           3      India  Sri Lanka      Surinder Khanna   \n",
      "1  1986   Sri Lanka           3  Sri Lanka   Pakistan     Arjuna Ranatunga   \n",
      "2  1988  Bangladesh           4      India  Sri Lanka         Navjot Sidhu   \n",
      "3  1990       India           3      India  Sri Lanka          Not Awarded   \n",
      "4  1995         UAE           4      India  Sri Lanka         Navjot Sidhu   \n",
      "\n",
      "  Highest Run Scorer Highest Wicket Taker  \n",
      "0    Surinder Khanna         Ravi Shastri  \n",
      "1   Arjuna Ranatunga          Abdul Qadir  \n",
      "2         Ijaz Ahmed          Arshad Ayub  \n",
      "3   Arjuna Ranatunga            Kapil Dev  \n",
      "4   Sachin Tendulkar          Anil Kumble  \n"
     ]
    }
   ],
   "source": [
    "# Printing the first few rows of the DataFrame\n",
    "print(df.head())"
   ]
  },
  {
   "cell_type": "markdown",
   "id": "2b4a094d-b3c5-4822-939f-475d8e24f093",
   "metadata": {},
   "source": [
    "# SQL Database"
   ]
  },
  {
   "cell_type": "code",
   "execution_count": 18,
   "id": "494a1ffb-9834-40e4-97e5-2ed363165f78",
   "metadata": {},
   "outputs": [],
   "source": [
    "from sqlalchemy import create_engine"
   ]
  },
  {
   "cell_type": "code",
   "execution_count": 20,
   "id": "18eb4c69-40f6-44bf-a9f5-78772e7c50bd",
   "metadata": {},
   "outputs": [],
   "source": [
    "# Creating a SQLAlchemy engine\n",
    "engine = create_engine(r'sqlite:///C:\\Users\\Jagtap\\Downloads\\New folder (2)\\sqlite-sakila.db')"
   ]
  },
  {
   "cell_type": "code",
   "execution_count": 22,
   "id": "7a6ab950-fd01-447c-bec1-cfc6d79e7666",
   "metadata": {},
   "outputs": [],
   "source": [
    "# Reading data from a SQL database into a DataFrame\n",
    "query = 'SELECT * FROM film'\n",
    "df = pd.read_sql(query, engine)"
   ]
  },
  {
   "cell_type": "code",
   "execution_count": 23,
   "id": "868a4a42-f0fd-468b-b80c-969e17ed718c",
   "metadata": {},
   "outputs": [
    {
     "name": "stdout",
     "output_type": "stream",
     "text": [
      "   film_id             title  \\\n",
      "0        1  ACADEMY DINOSAUR   \n",
      "1        2    ACE GOLDFINGER   \n",
      "2        3  ADAPTATION HOLES   \n",
      "3        4  AFFAIR PREJUDICE   \n",
      "4        5       AFRICAN EGG   \n",
      "\n",
      "                                         description release_year  \\\n",
      "0  A Epic Drama of a Feminist And a Mad Scientist...         2006   \n",
      "1  A Astounding Epistle of a Database Administrat...         2006   \n",
      "2  A Astounding Reflection of a Lumberjack And a ...         2006   \n",
      "3  A Fanciful Documentary of a Frisbee And a Lumb...         2006   \n",
      "4  A Fast-Paced Documentary of a Pastry Chef And ...         2006   \n",
      "\n",
      "   language_id original_language_id  rental_duration  rental_rate  length  \\\n",
      "0            1                 None                6         0.99      86   \n",
      "1            1                 None                3         4.99      48   \n",
      "2            1                 None                7         2.99      50   \n",
      "3            1                 None                5         2.99     117   \n",
      "4            1                 None                6         2.99     130   \n",
      "\n",
      "   replacement_cost rating                  special_features  \\\n",
      "0             20.99     PG  Deleted Scenes,Behind the Scenes   \n",
      "1             12.99      G           Trailers,Deleted Scenes   \n",
      "2             18.99  NC-17           Trailers,Deleted Scenes   \n",
      "3             26.99      G    Commentaries,Behind the Scenes   \n",
      "4             22.99      G                    Deleted Scenes   \n",
      "\n",
      "           last_update  \n",
      "0  2021-03-06 15:52:00  \n",
      "1  2021-03-06 15:52:00  \n",
      "2  2021-03-06 15:52:00  \n",
      "3  2021-03-06 15:52:00  \n",
      "4  2021-03-06 15:52:00  \n"
     ]
    }
   ],
   "source": [
    "# Printing the first few rows of the DataFrame\n",
    "print(df.head())"
   ]
  },
  {
   "cell_type": "code",
   "execution_count": null,
   "id": "8e7fafe8-eb0f-48f6-acf6-2463c595647f",
   "metadata": {},
   "outputs": [],
   "source": []
  }
 ],
 "metadata": {
  "kernelspec": {
   "display_name": "Python 3 (ipykernel)",
   "language": "python",
   "name": "python3"
  },
  "language_info": {
   "codemirror_mode": {
    "name": "ipython",
    "version": 3
   },
   "file_extension": ".py",
   "mimetype": "text/x-python",
   "name": "python",
   "nbconvert_exporter": "python",
   "pygments_lexer": "ipython3",
   "version": "3.11.7"
  }
 },
 "nbformat": 4,
 "nbformat_minor": 5
}
